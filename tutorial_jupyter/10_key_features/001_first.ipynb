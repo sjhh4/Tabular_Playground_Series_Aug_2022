{
 "cells": [
  {
   "cell_type": "markdown",
   "metadata": {},
   "source": [
    "\n",
    "\n",
    "# Lightweight, versatile, and platform agnostic architecture\n",
    "\n",
    "Optuna is entirely written in Python and has few dependencies.\n",
    "This means that we can quickly move to the real example once you get interested in Optuna.\n",
    "\n",
    "\n",
    "## Quadratic Function Example\n",
    "\n",
    "Usually, Optuna is used to optimize hyperparameters, but as an example,\n",
    "let's optimize a simple quadratic function: $(x - 2)^2$.\n"
   ]
  },
  {
   "cell_type": "markdown",
   "metadata": {},
   "source": [
    "First of all, import :mod:`optuna`.\n",
    "\n"
   ]
  },
  {
   "cell_type": "code",
   "execution_count": 1,
   "metadata": {
    "ExecuteTime": {
     "end_time": "2022-08-19T08:38:16.083979Z",
     "start_time": "2022-08-19T08:38:13.080768Z"
    }
   },
   "outputs": [
    {
     "name": "stderr",
     "output_type": "stream",
     "text": [
      "C:\\Users\\Hyoungrak Oh\\.conda\\envs\\ETA3.9\\lib\\site-packages\\scipy\\__init__.py:146: UserWarning: A NumPy version >=1.16.5 and <1.23.0 is required for this version of SciPy (detected version 1.23.1\n",
      "  warnings.warn(f\"A NumPy version >={np_minversion} and <{np_maxversion}\"\n",
      "Duplicate key in file WindowsPath('C:/Users/Hyoungrak Oh/.conda/envs/ETA3.9/lib/site-packages/matplotlib/mpl-data/matplotlibrc'), line 257 ('font.family: sans-serif')\n",
      "Duplicate key in file WindowsPath('C:/Users/Hyoungrak Oh/.conda/envs/ETA3.9/lib/site-packages/matplotlib/mpl-data/matplotlibrc'), line 406 ('axes.unicode_minus: True  # use Unicode for the minus symbol rather than hyphen.  See')\n"
     ]
    }
   ],
   "source": [
    "import optuna"
   ]
  },
  {
   "cell_type": "markdown",
   "metadata": {},
   "source": [
    "In optuna, conventionally functions to be optimized are named `objective`.\n",
    "\n"
   ]
  },
  {
   "cell_type": "code",
   "execution_count": 2,
   "metadata": {
    "ExecuteTime": {
     "end_time": "2022-08-19T08:38:24.613503Z",
     "start_time": "2022-08-19T08:38:24.592536Z"
    }
   },
   "outputs": [],
   "source": [
    "def objective(trial):\n",
    "    x = trial.suggest_float(\"x\", -10, 10)\n",
    "    return (x - 2) ** 2"
   ]
  },
  {
   "cell_type": "markdown",
   "metadata": {},
   "source": [
    "This function returns the value of $(x - 2)^2$. Our goal is to find the value of ``x``\n",
    "that minimizes the output of the ``objective`` function. This is the \"optimization.\"\n",
    "During the optimization, Optuna repeatedly calls and evaluates the objective function with\n",
    "different values of ``x``.\n",
    "\n",
    "A :class:`~optuna.trial.Trial` object corresponds to a single execution of the objective\n",
    "function and is internally instantiated upon each invocation of the function.\n",
    "\n",
    "The `suggest` APIs (for example, :func:`~optuna.trial.Trial.suggest_float`) are called\n",
    "inside the objective function to obtain parameters for a trial.\n",
    ":func:`~optuna.trial.Trial.suggest_float` selects parameters uniformly within the range\n",
    "provided. In our example, from $-10$ to $10$.\n",
    "\n",
    "To start the optimization, we create a study object and pass the objective function to method\n",
    ":func:`~optuna.study.Study.optimize` as follows.\n",
    "\n"
   ]
  },
  {
   "cell_type": "code",
   "execution_count": 3,
   "metadata": {
    "ExecuteTime": {
     "end_time": "2022-08-19T08:38:44.690740Z",
     "start_time": "2022-08-19T08:38:43.785545Z"
    }
   },
   "outputs": [
    {
     "name": "stderr",
     "output_type": "stream",
     "text": [
      "\u001b[32m[I 2022-08-19 17:38:43,788]\u001b[0m A new study created in memory with name: no-name-cdb929fa-822a-4b17-96ab-aee60fc9e9cd\u001b[0m\n",
      "\u001b[32m[I 2022-08-19 17:38:43,792]\u001b[0m Trial 0 finished with value: 21.62102231316924 and parameters: {'x': 6.649841106228173}. Best is trial 0 with value: 21.62102231316924.\u001b[0m\n",
      "\u001b[32m[I 2022-08-19 17:38:43,794]\u001b[0m Trial 1 finished with value: 82.56986916504066 and parameters: {'x': -7.086796419258037}. Best is trial 0 with value: 21.62102231316924.\u001b[0m\n",
      "\u001b[32m[I 2022-08-19 17:38:43,796]\u001b[0m Trial 2 finished with value: 72.00120341097646 and parameters: {'x': -6.485352285614101}. Best is trial 0 with value: 21.62102231316924.\u001b[0m\n",
      "\u001b[32m[I 2022-08-19 17:38:43,798]\u001b[0m Trial 3 finished with value: 6.510682512617698 and parameters: {'x': 4.551603909821761}. Best is trial 3 with value: 6.510682512617698.\u001b[0m\n",
      "\u001b[32m[I 2022-08-19 17:38:43,801]\u001b[0m Trial 4 finished with value: 102.87438105564713 and parameters: {'x': -8.142700875784868}. Best is trial 3 with value: 6.510682512617698.\u001b[0m\n",
      "\u001b[32m[I 2022-08-19 17:38:43,804]\u001b[0m Trial 5 finished with value: 7.064770540998157 and parameters: {'x': 4.657963607914555}. Best is trial 3 with value: 6.510682512617698.\u001b[0m\n",
      "\u001b[32m[I 2022-08-19 17:38:43,807]\u001b[0m Trial 6 finished with value: 5.645155083952682 and parameters: {'x': 4.37595351047799}. Best is trial 6 with value: 5.645155083952682.\u001b[0m\n",
      "\u001b[32m[I 2022-08-19 17:38:43,811]\u001b[0m Trial 7 finished with value: 17.492779212141276 and parameters: {'x': -2.1824369944018613}. Best is trial 6 with value: 5.645155083952682.\u001b[0m\n",
      "\u001b[32m[I 2022-08-19 17:38:43,814]\u001b[0m Trial 8 finished with value: 1.4024739792451117 and parameters: {'x': 0.81573905778958}. Best is trial 8 with value: 1.4024739792451117.\u001b[0m\n",
      "\u001b[32m[I 2022-08-19 17:38:43,816]\u001b[0m Trial 9 finished with value: 130.28205121191297 and parameters: {'x': -9.414116313228675}. Best is trial 8 with value: 1.4024739792451117.\u001b[0m\n",
      "\u001b[32m[I 2022-08-19 17:38:43,844]\u001b[0m Trial 10 finished with value: 7.064786659489965 and parameters: {'x': -0.6579666400257856}. Best is trial 8 with value: 1.4024739792451117.\u001b[0m\n",
      "\u001b[32m[I 2022-08-19 17:38:43,855]\u001b[0m Trial 11 finished with value: 55.86829412399285 and parameters: {'x': 9.474509624316022}. Best is trial 8 with value: 1.4024739792451117.\u001b[0m\n",
      "\u001b[32m[I 2022-08-19 17:38:43,865]\u001b[0m Trial 12 finished with value: 0.1459566917240676 and parameters: {'x': 1.6179572121815835}. Best is trial 12 with value: 0.1459566917240676.\u001b[0m\n",
      "\u001b[32m[I 2022-08-19 17:38:43,875]\u001b[0m Trial 13 finished with value: 0.4734536280111896 and parameters: {'x': 1.3119203330927518}. Best is trial 12 with value: 0.1459566917240676.\u001b[0m\n",
      "\u001b[32m[I 2022-08-19 17:38:43,886]\u001b[0m Trial 14 finished with value: 33.96092886738265 and parameters: {'x': -3.8276006098035453}. Best is trial 12 with value: 0.1459566917240676.\u001b[0m\n",
      "\u001b[32m[I 2022-08-19 17:38:43,899]\u001b[0m Trial 15 finished with value: 0.22397973084466094 and parameters: {'x': 1.5267350310400516}. Best is trial 12 with value: 0.1459566917240676.\u001b[0m\n",
      "\u001b[32m[I 2022-08-19 17:38:43,905]\u001b[0m Trial 16 finished with value: 0.29563974940172405 and parameters: {'x': 2.5437276426683897}. Best is trial 12 with value: 0.1459566917240676.\u001b[0m\n",
      "\u001b[32m[I 2022-08-19 17:38:43,913]\u001b[0m Trial 17 finished with value: 40.2901815827911 and parameters: {'x': -4.347454732630324}. Best is trial 12 with value: 0.1459566917240676.\u001b[0m\n",
      "\u001b[32m[I 2022-08-19 17:38:43,923]\u001b[0m Trial 18 finished with value: 11.893373321430635 and parameters: {'x': -1.4486770393051642}. Best is trial 12 with value: 0.1459566917240676.\u001b[0m\n",
      "\u001b[32m[I 2022-08-19 17:38:43,934]\u001b[0m Trial 19 finished with value: 27.19707962459215 and parameters: {'x': 7.215081938435114}. Best is trial 12 with value: 0.1459566917240676.\u001b[0m\n",
      "\u001b[32m[I 2022-08-19 17:38:43,946]\u001b[0m Trial 20 finished with value: 1.7227588273188976 and parameters: {'x': 3.312539076492162}. Best is trial 12 with value: 0.1459566917240676.\u001b[0m\n",
      "\u001b[32m[I 2022-08-19 17:38:43,959]\u001b[0m Trial 21 finished with value: 0.12529173144728706 and parameters: {'x': 2.353965720723472}. Best is trial 21 with value: 0.12529173144728706.\u001b[0m\n",
      "\u001b[32m[I 2022-08-19 17:38:43,967]\u001b[0m Trial 22 finished with value: 0.025450185334058593 and parameters: {'x': 2.159531142207591}. Best is trial 22 with value: 0.025450185334058593.\u001b[0m\n",
      "\u001b[32m[I 2022-08-19 17:38:43,975]\u001b[0m Trial 23 finished with value: 19.301097464176642 and parameters: {'x': 6.393301431062595}. Best is trial 22 with value: 0.025450185334058593.\u001b[0m\n",
      "\u001b[32m[I 2022-08-19 17:38:43,985]\u001b[0m Trial 24 finished with value: 2.846629828228988 and parameters: {'x': 0.3128041523791649}. Best is trial 22 with value: 0.025450185334058593.\u001b[0m\n",
      "\u001b[32m[I 2022-08-19 17:38:43,991]\u001b[0m Trial 25 finished with value: 21.149984738584294 and parameters: {'x': -2.598911255784819}. Best is trial 22 with value: 0.025450185334058593.\u001b[0m\n",
      "\u001b[32m[I 2022-08-19 17:38:44,001]\u001b[0m Trial 26 finished with value: 0.44175480042946796 and parameters: {'x': 2.664646372463935}. Best is trial 22 with value: 0.025450185334058593.\u001b[0m\n",
      "\u001b[32m[I 2022-08-19 17:38:44,009]\u001b[0m Trial 27 finished with value: 42.05388152009125 and parameters: {'x': 8.484896415525174}. Best is trial 22 with value: 0.025450185334058593.\u001b[0m\n",
      "\u001b[32m[I 2022-08-19 17:38:44,018]\u001b[0m Trial 28 finished with value: 2.445740466102663 and parameters: {'x': 3.563886334137703}. Best is trial 22 with value: 0.025450185334058593.\u001b[0m\n",
      "\u001b[32m[I 2022-08-19 17:38:44,028]\u001b[0m Trial 29 finished with value: 16.674265974029048 and parameters: {'x': 6.083413519842075}. Best is trial 22 with value: 0.025450185334058593.\u001b[0m\n",
      "\u001b[32m[I 2022-08-19 17:38:44,036]\u001b[0m Trial 30 finished with value: 5.986342251835791 and parameters: {'x': -0.4467002783005096}. Best is trial 22 with value: 0.025450185334058593.\u001b[0m\n",
      "\u001b[32m[I 2022-08-19 17:38:44,049]\u001b[0m Trial 31 finished with value: 0.13363693485835038 and parameters: {'x': 1.634436141203277}. Best is trial 22 with value: 0.025450185334058593.\u001b[0m\n",
      "\u001b[32m[I 2022-08-19 17:38:44,060]\u001b[0m Trial 32 finished with value: 0.04282014462282208 and parameters: {'x': 1.7930697107168163}. Best is trial 22 with value: 0.025450185334058593.\u001b[0m\n",
      "\u001b[32m[I 2022-08-19 17:38:44,069]\u001b[0m Trial 33 finished with value: 10.233395919594043 and parameters: {'x': 5.198967946009157}. Best is trial 22 with value: 0.025450185334058593.\u001b[0m\n",
      "\u001b[32m[I 2022-08-19 17:38:44,076]\u001b[0m Trial 34 finished with value: 0.07570904163916159 and parameters: {'x': 2.2751527605515918}. Best is trial 22 with value: 0.025450185334058593.\u001b[0m\n",
      "\u001b[32m[I 2022-08-19 17:38:44,085]\u001b[0m Trial 35 finished with value: 0.6139088546474247 and parameters: {'x': 2.7835233593502013}. Best is trial 22 with value: 0.025450185334058593.\u001b[0m\n",
      "\u001b[32m[I 2022-08-19 17:38:44,100]\u001b[0m Trial 36 finished with value: 4.097491770116152 and parameters: {'x': -0.02422621515386747}. Best is trial 22 with value: 0.025450185334058593.\u001b[0m\n",
      "\u001b[32m[I 2022-08-19 17:38:44,110]\u001b[0m Trial 37 finished with value: 3.2110059093835646 and parameters: {'x': 3.791927986662289}. Best is trial 22 with value: 0.025450185334058593.\u001b[0m\n",
      "\u001b[32m[I 2022-08-19 17:38:44,123]\u001b[0m Trial 38 finished with value: 12.146109747618022 and parameters: {'x': 5.485126934218899}. Best is trial 22 with value: 0.025450185334058593.\u001b[0m\n",
      "\u001b[32m[I 2022-08-19 17:38:44,136]\u001b[0m Trial 39 finished with value: 12.880191384464359 and parameters: {'x': -1.5888983524842772}. Best is trial 22 with value: 0.025450185334058593.\u001b[0m\n",
      "\u001b[32m[I 2022-08-19 17:38:44,150]\u001b[0m Trial 40 finished with value: 28.916243464574176 and parameters: {'x': 7.377382584917515}. Best is trial 22 with value: 0.025450185334058593.\u001b[0m\n",
      "\u001b[32m[I 2022-08-19 17:38:44,161]\u001b[0m Trial 41 finished with value: 0.009008936423271913 and parameters: {'x': 2.094915417205383}. Best is trial 41 with value: 0.009008936423271913.\u001b[0m\n",
      "\u001b[32m[I 2022-08-19 17:38:44,177]\u001b[0m Trial 42 finished with value: 6.03458003058138 and parameters: {'x': 4.456538220867198}. Best is trial 41 with value: 0.009008936423271913.\u001b[0m\n",
      "\u001b[32m[I 2022-08-19 17:38:44,188]\u001b[0m Trial 43 finished with value: 0.3050278358064816 and parameters: {'x': 2.5522932516394543}. Best is trial 41 with value: 0.009008936423271913.\u001b[0m\n",
      "\u001b[32m[I 2022-08-19 17:38:44,199]\u001b[0m Trial 44 finished with value: 1.4496174829632336 and parameters: {'x': 0.7959993841516386}. Best is trial 41 with value: 0.009008936423271913.\u001b[0m\n"
     ]
    },
    {
     "name": "stderr",
     "output_type": "stream",
     "text": [
      "\u001b[32m[I 2022-08-19 17:38:44,206]\u001b[0m Trial 45 finished with value: 7.254503488909554e-05 and parameters: {'x': 1.991482662687841}. Best is trial 45 with value: 7.254503488909554e-05.\u001b[0m\n",
      "\u001b[32m[I 2022-08-19 17:38:44,216]\u001b[0m Trial 46 finished with value: 9.576366627637864 and parameters: {'x': -1.0945705077826011}. Best is trial 45 with value: 7.254503488909554e-05.\u001b[0m\n",
      "\u001b[32m[I 2022-08-19 17:38:44,225]\u001b[0m Trial 47 finished with value: 25.20134705378452 and parameters: {'x': -3.02009432717997}. Best is trial 45 with value: 7.254503488909554e-05.\u001b[0m\n",
      "\u001b[32m[I 2022-08-19 17:38:44,236]\u001b[0m Trial 48 finished with value: 1.5599016300968904 and parameters: {'x': 0.7510397804185713}. Best is trial 45 with value: 7.254503488909554e-05.\u001b[0m\n",
      "\u001b[32m[I 2022-08-19 17:38:44,247]\u001b[0m Trial 49 finished with value: 3.9754722233664617 and parameters: {'x': 3.9938586267251903}. Best is trial 45 with value: 7.254503488909554e-05.\u001b[0m\n",
      "\u001b[32m[I 2022-08-19 17:38:44,253]\u001b[0m Trial 50 finished with value: 0.032676495888594 and parameters: {'x': 1.8192335874986894}. Best is trial 45 with value: 7.254503488909554e-05.\u001b[0m\n",
      "\u001b[32m[I 2022-08-19 17:38:44,262]\u001b[0m Trial 51 finished with value: 0.027633943031298628 and parameters: {'x': 1.833765397611392}. Best is trial 45 with value: 7.254503488909554e-05.\u001b[0m\n",
      "\u001b[32m[I 2022-08-19 17:38:44,274]\u001b[0m Trial 52 finished with value: 0.20964903243891456 and parameters: {'x': 1.542125527640037}. Best is trial 45 with value: 7.254503488909554e-05.\u001b[0m\n",
      "\u001b[32m[I 2022-08-19 17:38:44,285]\u001b[0m Trial 53 finished with value: 4.422170630591096 and parameters: {'x': -0.1028957726409304}. Best is trial 45 with value: 7.254503488909554e-05.\u001b[0m\n",
      "\u001b[32m[I 2022-08-19 17:38:44,293]\u001b[0m Trial 54 finished with value: 1.6267244160119732 and parameters: {'x': 3.2754310706627674}. Best is trial 45 with value: 7.254503488909554e-05.\u001b[0m\n",
      "\u001b[32m[I 2022-08-19 17:38:44,304]\u001b[0m Trial 55 finished with value: 1.0600489139984122 and parameters: {'x': 0.9704132314377714}. Best is trial 45 with value: 7.254503488909554e-05.\u001b[0m\n",
      "\u001b[32m[I 2022-08-19 17:38:44,316]\u001b[0m Trial 56 finished with value: 4.755977642882176e-05 and parameters: {'x': 2.006896359650484}. Best is trial 56 with value: 4.755977642882176e-05.\u001b[0m\n",
      "\u001b[32m[I 2022-08-19 17:38:44,332]\u001b[0m Trial 57 finished with value: 2.7995637647923792 and parameters: {'x': 0.3268103022094657}. Best is trial 56 with value: 4.755977642882176e-05.\u001b[0m\n",
      "\u001b[32m[I 2022-08-19 17:38:44,340]\u001b[0m Trial 58 finished with value: 59.1375913873002 and parameters: {'x': -5.690096968653919}. Best is trial 56 with value: 4.755977642882176e-05.\u001b[0m\n",
      "\u001b[32m[I 2022-08-19 17:38:44,353]\u001b[0m Trial 59 finished with value: 9.278804394738753 and parameters: {'x': 5.0461129976970245}. Best is trial 56 with value: 4.755977642882176e-05.\u001b[0m\n",
      "\u001b[32m[I 2022-08-19 17:38:44,360]\u001b[0m Trial 60 finished with value: 8.095881204367727 and parameters: {'x': -0.8453262035077325}. Best is trial 56 with value: 4.755977642882176e-05.\u001b[0m\n",
      "\u001b[32m[I 2022-08-19 17:38:44,370]\u001b[0m Trial 61 finished with value: 0.0056731885376247885 and parameters: {'x': 1.924679428191066}. Best is trial 56 with value: 4.755977642882176e-05.\u001b[0m\n",
      "\u001b[32m[I 2022-08-19 17:38:44,375]\u001b[0m Trial 62 finished with value: 0.7896213462856528 and parameters: {'x': 2.888606406844815}. Best is trial 56 with value: 4.755977642882176e-05.\u001b[0m\n",
      "\u001b[32m[I 2022-08-19 17:38:44,386]\u001b[0m Trial 63 finished with value: 0.05360499468113176 and parameters: {'x': 2.2315275246728383}. Best is trial 56 with value: 4.755977642882176e-05.\u001b[0m\n",
      "\u001b[32m[I 2022-08-19 17:38:44,391]\u001b[0m Trial 64 finished with value: 0.6753662527105915 and parameters: {'x': 1.1781932996679867}. Best is trial 56 with value: 4.755977642882176e-05.\u001b[0m\n",
      "\u001b[32m[I 2022-08-19 17:38:44,405]\u001b[0m Trial 65 finished with value: 4.4643329224751085 and parameters: {'x': 4.112896808288353}. Best is trial 56 with value: 4.755977642882176e-05.\u001b[0m\n",
      "\u001b[32m[I 2022-08-19 17:38:44,413]\u001b[0m Trial 66 finished with value: 0.0008767615361242124 and parameters: {'x': 2.02961015933973}. Best is trial 56 with value: 4.755977642882176e-05.\u001b[0m\n",
      "\u001b[32m[I 2022-08-19 17:38:44,421]\u001b[0m Trial 67 finished with value: 1.9839793393614442 and parameters: {'x': 3.4085380148797704}. Best is trial 56 with value: 4.755977642882176e-05.\u001b[0m\n",
      "\u001b[32m[I 2022-08-19 17:38:44,426]\u001b[0m Trial 68 finished with value: 0.0009809303812996883 and parameters: {'x': 2.031319808129995}. Best is trial 56 with value: 4.755977642882176e-05.\u001b[0m\n",
      "\u001b[32m[I 2022-08-19 17:38:44,436]\u001b[0m Trial 69 finished with value: 2.1062485437672605 and parameters: {'x': 0.5487079743320917}. Best is trial 56 with value: 4.755977642882176e-05.\u001b[0m\n",
      "\u001b[32m[I 2022-08-19 17:38:44,443]\u001b[0m Trial 70 finished with value: 1.2577963123825187 and parameters: {'x': 3.121515185979449}. Best is trial 56 with value: 4.755977642882176e-05.\u001b[0m\n",
      "\u001b[32m[I 2022-08-19 17:38:44,452]\u001b[0m Trial 71 finished with value: 0.05259452033123021 and parameters: {'x': 2.229334952266832}. Best is trial 56 with value: 4.755977642882176e-05.\u001b[0m\n",
      "\u001b[32m[I 2022-08-19 17:38:44,459]\u001b[0m Trial 72 finished with value: 0.4063230686646374 and parameters: {'x': 1.3625652436016393}. Best is trial 56 with value: 4.755977642882176e-05.\u001b[0m\n",
      "\u001b[32m[I 2022-08-19 17:38:44,468]\u001b[0m Trial 73 finished with value: 2.2387903939170087e-06 and parameters: {'x': 2.001496258799111}. Best is trial 73 with value: 2.2387903939170087e-06.\u001b[0m\n",
      "\u001b[32m[I 2022-08-19 17:38:44,474]\u001b[0m Trial 74 finished with value: 4.352849509328469 and parameters: {'x': -0.08634836720248362}. Best is trial 73 with value: 2.2387903939170087e-06.\u001b[0m\n",
      "\u001b[32m[I 2022-08-19 17:38:44,482]\u001b[0m Trial 75 finished with value: 3.4443654633106706 and parameters: {'x': 3.8559001760091167}. Best is trial 73 with value: 2.2387903939170087e-06.\u001b[0m\n",
      "\u001b[32m[I 2022-08-19 17:38:44,490]\u001b[0m Trial 76 finished with value: 0.0059932534060038066 and parameters: {'x': 2.0774161055982785}. Best is trial 73 with value: 2.2387903939170087e-06.\u001b[0m\n",
      "\u001b[32m[I 2022-08-19 17:38:44,498]\u001b[0m Trial 77 finished with value: 7.597005093684308 and parameters: {'x': 4.756266513544056}. Best is trial 73 with value: 2.2387903939170087e-06.\u001b[0m\n",
      "\u001b[32m[I 2022-08-19 17:38:44,504]\u001b[0m Trial 78 finished with value: 1.1299930603223591 and parameters: {'x': 3.063011317118665}. Best is trial 73 with value: 2.2387903939170087e-06.\u001b[0m\n",
      "\u001b[32m[I 2022-08-19 17:38:44,515]\u001b[0m Trial 79 finished with value: 114.35574422063078 and parameters: {'x': -8.693724525189097}. Best is trial 73 with value: 2.2387903939170087e-06.\u001b[0m\n",
      "\u001b[32m[I 2022-08-19 17:38:44,521]\u001b[0m Trial 80 finished with value: 0.7693737449329877 and parameters: {'x': 1.1228604757890637}. Best is trial 73 with value: 2.2387903939170087e-06.\u001b[0m\n",
      "\u001b[32m[I 2022-08-19 17:38:44,530]\u001b[0m Trial 81 finished with value: 0.006312556152135723 and parameters: {'x': 2.0794515962843776}. Best is trial 73 with value: 2.2387903939170087e-06.\u001b[0m\n",
      "\u001b[32m[I 2022-08-19 17:38:44,537]\u001b[0m Trial 82 finished with value: 0.4077839954828728 and parameters: {'x': 2.63857967042717}. Best is trial 73 with value: 2.2387903939170087e-06.\u001b[0m\n",
      "\u001b[32m[I 2022-08-19 17:38:44,544]\u001b[0m Trial 83 finished with value: 2.9034671322804465e-05 and parameters: {'x': 1.9946116170029586}. Best is trial 73 with value: 2.2387903939170087e-06.\u001b[0m\n",
      "\u001b[32m[I 2022-08-19 17:38:44,553]\u001b[0m Trial 84 finished with value: 2.8716534752970024 and parameters: {'x': 0.3054046278544833}. Best is trial 73 with value: 2.2387903939170087e-06.\u001b[0m\n",
      "\u001b[32m[I 2022-08-19 17:38:44,564]\u001b[0m Trial 85 finished with value: 6.149944587664493 and parameters: {'x': -0.4799081812971411}. Best is trial 73 with value: 2.2387903939170087e-06.\u001b[0m\n",
      "\u001b[32m[I 2022-08-19 17:38:44,571]\u001b[0m Trial 86 finished with value: 0.2680625630108074 and parameters: {'x': 1.4822524138049435}. Best is trial 73 with value: 2.2387903939170087e-06.\u001b[0m\n",
      "\u001b[32m[I 2022-08-19 17:38:44,578]\u001b[0m Trial 87 finished with value: 1.4197907161701288e-06 and parameters: {'x': 1.9988084502879988}. Best is trial 87 with value: 1.4197907161701288e-06.\u001b[0m\n",
      "\u001b[32m[I 2022-08-19 17:38:44,589]\u001b[0m Trial 88 finished with value: 2.835587349892555 and parameters: {'x': 3.6839202326394664}. Best is trial 87 with value: 1.4197907161701288e-06.\u001b[0m\n",
      "\u001b[32m[I 2022-08-19 17:38:44,598]\u001b[0m Trial 89 finished with value: 5.706725921617904 and parameters: {'x': 4.38887545125691}. Best is trial 87 with value: 1.4197907161701288e-06.\u001b[0m\n"
     ]
    },
    {
     "name": "stderr",
     "output_type": "stream",
     "text": [
      "\u001b[32m[I 2022-08-19 17:38:44,606]\u001b[0m Trial 90 finished with value: 12.854451265476383 and parameters: {'x': -1.5853104838321022}. Best is trial 87 with value: 1.4197907161701288e-06.\u001b[0m\n",
      "\u001b[32m[I 2022-08-19 17:38:44,615]\u001b[0m Trial 91 finished with value: 0.014288865696234365 and parameters: {'x': 1.8804639564974883}. Best is trial 87 with value: 1.4197907161701288e-06.\u001b[0m\n",
      "\u001b[32m[I 2022-08-19 17:38:44,623]\u001b[0m Trial 92 finished with value: 0.42699647012828273 and parameters: {'x': 2.653449669162272}. Best is trial 87 with value: 1.4197907161701288e-06.\u001b[0m\n",
      "\u001b[32m[I 2022-08-19 17:38:44,633]\u001b[0m Trial 93 finished with value: 1.3297245661581838 and parameters: {'x': 0.8468631624311953}. Best is trial 87 with value: 1.4197907161701288e-06.\u001b[0m\n",
      "\u001b[32m[I 2022-08-19 17:38:44,639]\u001b[0m Trial 94 finished with value: 0.003381487897044681 and parameters: {'x': 2.058150562310649}. Best is trial 87 with value: 1.4197907161701288e-06.\u001b[0m\n",
      "\u001b[32m[I 2022-08-19 17:38:44,650]\u001b[0m Trial 95 finished with value: 0.46948125073649233 and parameters: {'x': 1.3148129811967448}. Best is trial 87 with value: 1.4197907161701288e-06.\u001b[0m\n",
      "\u001b[32m[I 2022-08-19 17:38:44,656]\u001b[0m Trial 96 finished with value: 0.8788135862810295 and parameters: {'x': 2.9374505780472}. Best is trial 87 with value: 1.4197907161701288e-06.\u001b[0m\n",
      "\u001b[32m[I 2022-08-19 17:38:44,667]\u001b[0m Trial 97 finished with value: 2.3371350546176237 and parameters: {'x': 0.47123086941892245}. Best is trial 87 with value: 1.4197907161701288e-06.\u001b[0m\n",
      "\u001b[32m[I 2022-08-19 17:38:44,674]\u001b[0m Trial 98 finished with value: 13.613165553860037 and parameters: {'x': 5.689602357146368}. Best is trial 87 with value: 1.4197907161701288e-06.\u001b[0m\n",
      "\u001b[32m[I 2022-08-19 17:38:44,687]\u001b[0m Trial 99 finished with value: 1.9530308337918973 and parameters: {'x': 3.3975087956044847}. Best is trial 87 with value: 1.4197907161701288e-06.\u001b[0m\n"
     ]
    }
   ],
   "source": [
    "study = optuna.create_study()\n",
    "study.optimize(objective, n_trials=100)"
   ]
  },
  {
   "cell_type": "markdown",
   "metadata": {},
   "source": [
    "You can get the best parameter as follows.\n",
    "\n"
   ]
  },
  {
   "cell_type": "code",
   "execution_count": 4,
   "metadata": {
    "ExecuteTime": {
     "end_time": "2022-08-19T08:38:50.827884Z",
     "start_time": "2022-08-19T08:38:50.806563Z"
    }
   },
   "outputs": [
    {
     "name": "stdout",
     "output_type": "stream",
     "text": [
      "Found x: 1.9988084502879988, (x - 2)^2: 1.4197907161701288e-06\n"
     ]
    }
   ],
   "source": [
    "best_params = study.best_params\n",
    "found_x = best_params[\"x\"]\n",
    "print(\"Found x: {}, (x - 2)^2: {}\".format(found_x, (found_x - 2) ** 2))"
   ]
  },
  {
   "cell_type": "markdown",
   "metadata": {},
   "source": [
    "We can see that the ``x`` value found by Optuna is close to the optimal value of ``2``.\n",
    "\n"
   ]
  },
  {
   "cell_type": "markdown",
   "metadata": {},
   "source": [
    "<div class=\"alert alert-info\"><h4>Note</h4><p>When used to search for hyperparameters in machine learning,\n",
    "    usually the objective function would return the loss or accuracy\n",
    "    of the model.</p></div>\n",
    "\n"
   ]
  },
  {
   "cell_type": "markdown",
   "metadata": {},
   "source": [
    "## Study Object\n",
    "\n",
    "Let us clarify the terminology in Optuna as follows:\n",
    "\n",
    "* **Trial**: A single call of the objective function\n",
    "* **Study**: An optimization session, which is a set of trials\n",
    "* **Parameter**: A variable whose value is to be optimized, such as ``x`` in the above example\n",
    "\n",
    "In Optuna, we use the study object to manage optimization.\n",
    "Method :func:`~optuna.study.create_study` returns a study object.\n",
    "A study object has useful properties for analyzing the optimization outcome.\n",
    "\n"
   ]
  },
  {
   "cell_type": "markdown",
   "metadata": {},
   "source": [
    "To get the dictionary of parameter name and parameter values:\n",
    "\n"
   ]
  },
  {
   "cell_type": "code",
   "execution_count": 5,
   "metadata": {
    "ExecuteTime": {
     "end_time": "2022-08-19T08:39:13.309782Z",
     "start_time": "2022-08-19T08:39:13.283825Z"
    }
   },
   "outputs": [
    {
     "data": {
      "text/plain": [
       "{'x': 1.9988084502879988}"
      ]
     },
     "execution_count": 5,
     "metadata": {},
     "output_type": "execute_result"
    }
   ],
   "source": [
    "study.best_params"
   ]
  },
  {
   "cell_type": "markdown",
   "metadata": {},
   "source": [
    "To get the best observed value of the objective function:\n",
    "\n"
   ]
  },
  {
   "cell_type": "code",
   "execution_count": null,
   "metadata": {},
   "outputs": [],
   "source": [
    "study.best_value"
   ]
  },
  {
   "cell_type": "markdown",
   "metadata": {},
   "source": [
    "To get the best trial:\n",
    "\n"
   ]
  },
  {
   "cell_type": "code",
   "execution_count": null,
   "metadata": {},
   "outputs": [],
   "source": [
    "study.best_trial"
   ]
  },
  {
   "cell_type": "markdown",
   "metadata": {},
   "source": [
    "To get all trials:\n",
    "\n"
   ]
  },
  {
   "cell_type": "code",
   "execution_count": null,
   "metadata": {},
   "outputs": [],
   "source": [
    "study.trials"
   ]
  },
  {
   "cell_type": "markdown",
   "metadata": {},
   "source": [
    "To get the number of trials:\n",
    "\n"
   ]
  },
  {
   "cell_type": "code",
   "execution_count": null,
   "metadata": {},
   "outputs": [],
   "source": [
    "len(study.trials)"
   ]
  },
  {
   "cell_type": "markdown",
   "metadata": {},
   "source": [
    "By executing :func:`~optuna.study.Study.optimize` again, we can continue the optimization.\n",
    "\n"
   ]
  },
  {
   "cell_type": "code",
   "execution_count": null,
   "metadata": {},
   "outputs": [],
   "source": [
    "study.optimize(objective, n_trials=100)"
   ]
  },
  {
   "cell_type": "markdown",
   "metadata": {},
   "source": [
    "To get the updated number of trials:\n",
    "\n"
   ]
  },
  {
   "cell_type": "code",
   "execution_count": null,
   "metadata": {},
   "outputs": [],
   "source": [
    "len(study.trials)"
   ]
  },
  {
   "cell_type": "markdown",
   "metadata": {},
   "source": [
    "As the objective function is so easy that the last 100 trials don't improve the result.\n",
    "However, we can check the result again:\n",
    "\n"
   ]
  },
  {
   "cell_type": "code",
   "execution_count": null,
   "metadata": {},
   "outputs": [],
   "source": [
    "best_params = study.best_params\n",
    "found_x = best_params[\"x\"]\n",
    "print(\"Found x: {}, (x - 2)^2: {}\".format(found_x, (found_x - 2) ** 2))"
   ]
  }
 ],
 "metadata": {
  "kernelspec": {
   "display_name": "ETA3.9",
   "language": "python",
   "name": "eta3.9"
  },
  "language_info": {
   "codemirror_mode": {
    "name": "ipython",
    "version": 3
   },
   "file_extension": ".py",
   "mimetype": "text/x-python",
   "name": "python",
   "nbconvert_exporter": "python",
   "pygments_lexer": "ipython3",
   "version": "3.9.12"
  },
  "toc": {
   "base_numbering": 1,
   "nav_menu": {},
   "number_sections": false,
   "sideBar": true,
   "skip_h1_title": false,
   "title_cell": "Table of Contents",
   "title_sidebar": "Contents",
   "toc_cell": false,
   "toc_position": {},
   "toc_section_display": true,
   "toc_window_display": false
  },
  "varInspector": {
   "cols": {
    "lenName": 16,
    "lenType": 16,
    "lenVar": 40
   },
   "kernels_config": {
    "python": {
     "delete_cmd_postfix": "",
     "delete_cmd_prefix": "del ",
     "library": "var_list.py",
     "varRefreshCmd": "print(var_dic_list())"
    },
    "r": {
     "delete_cmd_postfix": ") ",
     "delete_cmd_prefix": "rm(",
     "library": "var_list.r",
     "varRefreshCmd": "cat(var_dic_list()) "
    }
   },
   "types_to_exclude": [
    "module",
    "function",
    "builtin_function_or_method",
    "instance",
    "_Feature"
   ],
   "window_display": false
  }
 },
 "nbformat": 4,
 "nbformat_minor": 1
}
