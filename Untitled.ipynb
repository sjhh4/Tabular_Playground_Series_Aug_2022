{
 "cells": [
  {
   "cell_type": "code",
   "execution_count": 9,
   "id": "674c5d1e",
   "metadata": {
    "ExecuteTime": {
     "end_time": "2022-08-17T08:43:09.396493Z",
     "start_time": "2022-08-17T08:43:09.385523Z"
    }
   },
   "outputs": [],
   "source": [
    "a = [1, 2, 3, 4, 5, 6, 7, 8]"
   ]
  },
  {
   "cell_type": "code",
   "execution_count": 10,
   "id": "10b64214",
   "metadata": {
    "ExecuteTime": {
     "end_time": "2022-08-17T08:43:11.517213Z",
     "start_time": "2022-08-17T08:43:11.499207Z"
    }
   },
   "outputs": [],
   "source": [
    "b = a"
   ]
  },
  {
   "cell_type": "code",
   "execution_count": 11,
   "id": "d9546f74",
   "metadata": {
    "ExecuteTime": {
     "end_time": "2022-08-17T08:43:14.660942Z",
     "start_time": "2022-08-17T08:43:14.650004Z"
    }
   },
   "outputs": [],
   "source": [
    "a.append(9)"
   ]
  },
  {
   "cell_type": "code",
   "execution_count": 12,
   "id": "81f06f98",
   "metadata": {
    "ExecuteTime": {
     "end_time": "2022-08-17T08:43:15.065262Z",
     "start_time": "2022-08-17T08:43:15.054289Z"
    }
   },
   "outputs": [
    {
     "data": {
      "text/plain": [
       "[1, 2, 3, 4, 5, 6, 7, 8, 9]"
      ]
     },
     "execution_count": 12,
     "metadata": {},
     "output_type": "execute_result"
    }
   ],
   "source": [
    "b"
   ]
  },
  {
   "cell_type": "code",
   "execution_count": 13,
   "id": "99b06d22",
   "metadata": {
    "ExecuteTime": {
     "end_time": "2022-08-17T08:43:19.684986Z",
     "start_time": "2022-08-17T08:43:19.668020Z"
    }
   },
   "outputs": [],
   "source": [
    "a = [1, 2, 3, 4, 5, 6, 7, 8]"
   ]
  },
  {
   "cell_type": "code",
   "execution_count": 14,
   "id": "55bc774c",
   "metadata": {
    "ExecuteTime": {
     "end_time": "2022-08-17T08:43:23.820876Z",
     "start_time": "2022-08-17T08:43:23.807911Z"
    }
   },
   "outputs": [],
   "source": [
    "b = a"
   ]
  },
  {
   "cell_type": "code",
   "execution_count": 15,
   "id": "a9b9e022",
   "metadata": {
    "ExecuteTime": {
     "end_time": "2022-08-17T08:43:28.490043Z",
     "start_time": "2022-08-17T08:43:28.483051Z"
    }
   },
   "outputs": [],
   "source": [
    "b.append(9)"
   ]
  },
  {
   "cell_type": "code",
   "execution_count": 16,
   "id": "1362ab51",
   "metadata": {
    "ExecuteTime": {
     "end_time": "2022-08-17T08:43:30.231086Z",
     "start_time": "2022-08-17T08:43:30.223106Z"
    }
   },
   "outputs": [
    {
     "data": {
      "text/plain": [
       "[1, 2, 3, 4, 5, 6, 7, 8, 9]"
      ]
     },
     "execution_count": 16,
     "metadata": {},
     "output_type": "execute_result"
    }
   ],
   "source": [
    "a"
   ]
  },
  {
   "cell_type": "code",
   "execution_count": null,
   "id": "7730e725",
   "metadata": {},
   "outputs": [],
   "source": []
  }
 ],
 "metadata": {
  "kernelspec": {
   "display_name": "ETA3.9",
   "language": "python",
   "name": "eta3.9"
  },
  "language_info": {
   "codemirror_mode": {
    "name": "ipython",
    "version": 3
   },
   "file_extension": ".py",
   "mimetype": "text/x-python",
   "name": "python",
   "nbconvert_exporter": "python",
   "pygments_lexer": "ipython3",
   "version": "3.9.7"
  },
  "toc": {
   "base_numbering": 1,
   "nav_menu": {},
   "number_sections": false,
   "sideBar": true,
   "skip_h1_title": false,
   "title_cell": "Table of Contents",
   "title_sidebar": "Contents",
   "toc_cell": false,
   "toc_position": {},
   "toc_section_display": true,
   "toc_window_display": false
  },
  "varInspector": {
   "cols": {
    "lenName": 16,
    "lenType": 16,
    "lenVar": 40
   },
   "kernels_config": {
    "python": {
     "delete_cmd_postfix": "",
     "delete_cmd_prefix": "del ",
     "library": "var_list.py",
     "varRefreshCmd": "print(var_dic_list())"
    },
    "r": {
     "delete_cmd_postfix": ") ",
     "delete_cmd_prefix": "rm(",
     "library": "var_list.r",
     "varRefreshCmd": "cat(var_dic_list()) "
    }
   },
   "types_to_exclude": [
    "module",
    "function",
    "builtin_function_or_method",
    "instance",
    "_Feature"
   ],
   "window_display": false
  }
 },
 "nbformat": 4,
 "nbformat_minor": 5
}
